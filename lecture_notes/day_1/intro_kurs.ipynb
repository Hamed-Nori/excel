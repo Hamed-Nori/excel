{
 "cells": [
  {
   "cell_type": "markdown",
   "metadata": {},
   "source": [
    "# Einführung Excel\n",
    "\n",
    "\n",
    "\n",
    "## Was ist Excel?\n",
    "\n",
    "Excel ist einer von den zahlreichen Software Anwendungen, die unverzichbar im Breich Datenverarbeitung ist.\n",
    "Allerdings bevor ich konkrekt auf Excel eingehe will ich auf was anderes eingehe.\n",
    "\n",
    "## Historie von Datenspeicherung\n",
    "\n",
    "Eine Besonderheit von uns Menschen, welches uns dieses Fortgeschrittenes und innovativfulles Zusammenleben ermöglicht, ist die Fähigkeit Ereignisses zu beobachten, diese zu kategorisieren, einen zusammenhang herzuleiten, diese zusammenhänge als Inforamtionen zur verarbeiten und schlussfolgerungen zu ziehen. Allerdings gab es ein besondere Herausforderung für dieses Prozess. EInfache und kurze Informationen könnte der Mensch in der Antike erfassen und vearbeiten. Aber mit wachsender Schwierigkeitsgrad, komplexität und Umfang war es schwierig einen Überblick zu behalten. Daher ergriffen Menschen nach Methodiken die das ganze für die erleichterte. Bis dahin merkte man sich die Informationen im Kopf und notierte es mit Symbolen etc.\n",
    "In der römischen Antike fieng man aber Informationen wie zum beispiel Schulden, Ausgaben und etc. in Zahlen und Buchstaben zur notieren. Dafür wurde Zeilen und Spalten angelegt. Das gilt als Geburtsstunde des tabellerichen Datenspeicherung.Der Umfang dieses Datensepicherung begann mit einfachen Blätter und wuchs bis hinzu großen Bücher.\n",
    "\n",
    "Mit Erfindung der Dampfmaschnien im 18. Jahrhundert entwicklte der Mensch exponentiell viele weitere Werkzeuge, wie Züge, Fliesband und soweiter und sofort, welches nicht nur menschliches Einsatz im schwerindustrie erleichterte sondern auch zu höheren Prdouktion und somit zur wachstum geschäftlichen Beziehungen führte. Die Revoultion wiederum stellte die Notwendigkeit von Datenerfassung im Mittelpunkt. Ein Problem dabei war das man viele Informationen in Bücher erfassen müsste, das kostet nicht nur mengen an Geld und verlierende Überblick sondern erschwerte auch die Verarbeitung dieses Informationen. \n",
    "\n",
    "FÜr die Behenung dieses mühesamen Arbeit kamen dank Fortschritte ind er Coputer-Technologie Software Anwendungen ins Spiel. Der ersten Software Anwendungen, welches in der Lage waren Tabellenkalkulationen durchzuführen, waren **VISICAL** und **Lotus**\n",
    "\n",
    "<div>\n",
    "    <img src=\"../../assest/day_1/Visicalc.png\" alt=\"Visicalc\">\n",
    "    <h2>VISICALC</h2>\n",
    "    <ul>\n",
    "        <li>ermöglichte erstmals kaufmännische Berechnungen, ohne Programmierkenntnisse</li>\n",
    "        <li>1983 brach der Verkauf von Visicalc mit dem Erscheinen von Lotus 1-2-3 ein</li>\n",
    "        <li>Später wurde Visicalc von Lotus 1-2-3 übernommen und kurz darauf eingestellt</li>\n",
    "    </ul>\n",
    "</div>\n",
    "\n",
    "<div>\n",
    "    <img src=\"../../assest\\day_1\\Lotus-123-3.0-MSDOS.png\" alt=\"Visicalc\">\n",
    "    <h2>Lotus 1-2-3</h2>\n",
    "    <ul>\n",
    "        <li>Veröffentlichung: Lotus 1-2-3 wurde 1983 von Lotus Development Corporation eingeführt.</li>\n",
    "        <li>1-2-3“ stehen dabei für die Funktionalität der Software: 1. Berechnungen, 2. Diagramme und 3. Datenbank</li>\n",
    "        <li>Kompatibilität: Bot eine einfache Migration von Visicalc und unterstützte DOS-basierte Systeme.</li>\n",
    "    </ul>\n",
    "</div>\n",
    "\n",
    "\n",
    "Die Revolutinonen Änderung, welches die maximale Benutzerfreundlichkeit zur seiner Zeit bot, wurde durch Bill Gates und sein unternehmen Microsoft initilaisiert. im Jahr 1985 wurde die erste Excel Version von BIll Gates veröffentlicht. Die neue **Spreadsheets** Software sorgte für eine wachsende Community. Bis heute domminiert Microsfot den Markt mit sein SOftware Anwendung **Excel** im bereich Speicherung von Daten in tabllerischer Form. Zumindest für viele Personen und Unternehmen die nicht IT-SPezialisert sind.\n",
    "Durch Anerkennung des Software und wachsende Nachfrage kamen immer neue Versionen des Software mit neuen Möglichkeiten \n",
    "und Features.\n",
    "\n",
    "Mit Excel konnte man Daten tabellerisch in Zellen notieren, verschiden Formulare benutzen, dieses zur verändern und schnelle Kalkulationen durchzuführen wie Addieren, Subtrahieren und etc. Ausserdem konnte man die Daten visualisieren in form von Balkendiagramme, Säulendiagramme und viele weitere Formen. Später wurden viele komplexere Features wie pivot- table eingeführt die viele weitere möglichkeiten anbot als nur Grundorechenoperatoren auf Daten anzuwenden. Natürlich gibt es viele weitere Möglichkeiten von Excel, was ist ein Pivot Table ist erkläre ich es im Laufe des Kurses genauer. \n",
    "\n",
    "## **Vorteile von Excel**  \n",
    "Excel ist besonders benutzerfreundlich und weit verbreitet. Es bietet eine intuitive Oberfläche, die den Einstieg auch für Anfänger erleichtert. Mit einer breiten Palette an Formeln, Funktionen und grafischen Tools können Daten einfach eingegeben, bearbeitet und visualisiert werden. Die Möglichkeit, Makros zu nutzen, erlaubt zudem eine gewisse Automatisierung wiederkehrender Aufgaben. Dank der Integration in das Microsoft Office-Paket ist Excel in vielen Unternehmensprozessen ein Standardwerkzeug, was den Austausch von Dateien und die Zusammenarbeit erleichtert.\n",
    "\n",
    "**Nachteile von Excel**  \n",
    "Trotz seiner Vielseitigkeit stößt Excel an seine Grenzen, wenn es um die Verarbeitung sehr großer Datenmengen geht. Komplexe Berechnungen oder umfangreiche Datenbanken können zu Performance-Problemen führen. Die manuelle Pflege und Eingabe von Daten erhöht zudem das Risiko von Fehlern, insbesondere in umfangreichen Arbeitsblättern. Außerdem kann die mangelnde Versionierung und begrenzte Kollaborationsfunktion in Teamumgebungen zu Herausforderungen bei der gemeinsamen Bearbeitung führen.\n",
    "\n",
    "**Grenzen von Excel**  \n",
    "Excel ist primär als Tabellenkalkulationsprogramm konzipiert und weniger für den Einsatz als vollwertige relationale Datenbank oder als Business-Intelligence-Lösung geeignet. Bei hochkomplexen Datenanalysen oder Echtzeit-Datenverarbeitung stoßen die Funktionen von Excel oft an ihre Grenzen. Auch in Bezug auf Sicherheit und Datenintegrität kann Excel nicht immer den Anforderungen größerer Unternehmen gerecht werden, weshalb in solchen Fällen spezialisierte Datenbank- und Analysetools bevorzugt werden.\n",
    "\n",
    "| Vorteile                                                     | Nachteile                                                                                      |\n",
    "| ------------------------------------------------------------ | ---------------------------------------------------------------------------------------------- |\n",
    "| Benutzerfreundliche und intuitive Oberfläche                 | Performanceprobleme bei sehr großen Datenmengen                                                |\n",
    "| Weit verbreitet und Teil des Microsoft Office-Ökosystems       | Begrenzte Funktionalitäten bei hochkomplexen Datenanalysen                                       |\n",
    "| Umfangreiche Formeln, Funktionen und grafische Tools           | Manuelle Dateneingabe kann zu Fehlern führen                                                     |\n",
    "| Möglichkeit zur Automatisierung durch Makros                  | Eingeschränkte Versionierung und Kollaborationsfunktionen                                        |\n",
    "| Flexibilität bei der Datenvisualisierung                      | Nicht optimal als vollwertige relationale Datenbank oder Business-Intelligence-Lösung            |\n",
    "\n",
    "\n",
    "\n",
    "\n"
   ]
  },
  {
   "cell_type": "markdown",
   "metadata": {},
   "source": [
    "## Was wir am Ende dieses Lektion lernen?"
   ]
  },
  {
   "cell_type": "markdown",
   "metadata": {},
   "source": []
  }
 ],
 "metadata": {
  "language_info": {
   "name": "python"
  }
 },
 "nbformat": 4,
 "nbformat_minor": 2
}
