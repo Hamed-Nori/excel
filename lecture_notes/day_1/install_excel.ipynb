{
 "cells": [
  {
   "cell_type": "code",
   "execution_count": null,
   "metadata": {},
   "outputs": [],
   "source": [
    "# Installierung von Excel\n",
    "\n",
    "## Installation von Excel für Mac Nutzer\n",
    "\n",
    "## Installation von Excel für Windows Nutzer\n"
   ]
  }
 ],
 "metadata": {
  "language_info": {
   "name": "python"
  }
 },
 "nbformat": 4,
 "nbformat_minor": 2
}
