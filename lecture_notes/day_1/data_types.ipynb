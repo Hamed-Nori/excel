{
 "cells": [
  {
   "cell_type": "code",
   "execution_count": null,
   "metadata": {},
   "outputs": [],
   "source": [
    "# Datentypen in Excel\n",
    "\n",
    "## Text in Excel\n",
    "\n",
    "## Zahlen in Excel\n",
    "\n",
    "## Datum in Excel\n"
   ]
  }
 ],
 "metadata": {
  "language_info": {
   "name": "python"
  }
 },
 "nbformat": 4,
 "nbformat_minor": 2
}
